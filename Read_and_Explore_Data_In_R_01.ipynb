{
 "cells": [
  {
   "cell_type": "code",
   "execution_count": 1,
   "id": "66f3b054",
   "metadata": {},
   "outputs": [],
   "source": [
    "# Help files\\links\n",
    "# https://www.datanovia.com/en/lessons/rename-data-frame-columns-in-r/"
   ]
  },
  {
   "cell_type": "code",
   "execution_count": 2,
   "id": "8a1801e0",
   "metadata": {},
   "outputs": [
    {
     "name": "stderr",
     "output_type": "stream",
     "text": [
      "-- \u001b[1mAttaching packages\u001b[22m ------------------------------------------------------------------------------- tidyverse 1.3.1 --\n",
      "\n",
      "\u001b[32mv\u001b[39m \u001b[34mggplot2\u001b[39m 3.3.4     \u001b[32mv\u001b[39m \u001b[34mpurrr  \u001b[39m 0.3.4\n",
      "\u001b[32mv\u001b[39m \u001b[34mtibble \u001b[39m 3.1.2     \u001b[32mv\u001b[39m \u001b[34mdplyr  \u001b[39m 1.0.6\n",
      "\u001b[32mv\u001b[39m \u001b[34mtidyr  \u001b[39m 1.1.3     \u001b[32mv\u001b[39m \u001b[34mstringr\u001b[39m 1.4.0\n",
      "\u001b[32mv\u001b[39m \u001b[34mreadr  \u001b[39m 1.4.0     \u001b[32mv\u001b[39m \u001b[34mforcats\u001b[39m 0.5.1\n",
      "\n",
      "-- \u001b[1mConflicts\u001b[22m ---------------------------------------------------------------------------------- tidyverse_conflicts() --\n",
      "\u001b[31mx\u001b[39m \u001b[34mdplyr\u001b[39m::\u001b[32mfilter()\u001b[39m masks \u001b[34mstats\u001b[39m::filter()\n",
      "\u001b[31mx\u001b[39m \u001b[34mdplyr\u001b[39m::\u001b[32mlag()\u001b[39m    masks \u001b[34mstats\u001b[39m::lag()\n",
      "\n"
     ]
    }
   ],
   "source": [
    "# Required packages\n",
    "# Load the tidyverse packages, which include dplyr:\n",
    "\n",
    "library(tidyverse)\n",
    "library(explore)"
   ]
  },
  {
   "cell_type": "code",
   "execution_count": 3,
   "id": "9102a129",
   "metadata": {},
   "outputs": [],
   "source": [
    "# Read the CSV file with header\n",
    "my_data <- read.csv(file = 'P:/Ahmed_Data_Files/STATISTICAL_ANALYSIS_DATA_01.csv')"
   ]
  },
  {
   "cell_type": "code",
   "execution_count": 4,
   "id": "d87c2033",
   "metadata": {},
   "outputs": [
    {
     "data": {
      "text/html": [
       "6208423"
      ],
      "text/latex": [
       "6208423"
      ],
      "text/markdown": [
       "6208423"
      ],
      "text/plain": [
       "[1] 6208423"
      ]
     },
     "metadata": {},
     "output_type": "display_data"
    }
   ],
   "source": [
    "nrow(my_data)"
   ]
  },
  {
   "cell_type": "code",
   "execution_count": 5,
   "id": "ca05eb01",
   "metadata": {},
   "outputs": [
    {
     "name": "stdout",
     "output_type": "stream",
     "text": [
      "'data.frame':\t6208423 obs. of  18 variables:\n",
      " $ client              : num  200 200 200 200 200 200 200 200 200 200 ...\n",
      " $ work.item           : num  6.01e+09 6.01e+09 6.01e+09 6.01e+09 6.01e+09 ...\n",
      " $ work.item.labor.key : int  1 1 1 1 1 1 1 1 1 0 ...\n",
      " $ work.item.index     : int  1 1 1 1 1 1 1 1 1 1 ...\n",
      " $ wi.technichans      : int  2 2 2 2 3 2 3 3 2 2 ...\n",
      " $ wi.red.flags        : int  1 1 1 1 1 2 1 1 2 1 ...\n",
      " $ load.images         : int  0 0 0 0 0 0 0 0 0 0 ...\n",
      " $ internal.labor.cost : num  0 0 0 0 0 0 0 0 0 0 ...\n",
      " $ internal.labor.hours: num  1.18 1.09 0.44 44.36 9.28 ...\n",
      " $ internal.parts.cost : num  0.04 0.04 0.02 1.52 0.32 0.01 0.04 0.07 0.02 0.02 ...\n",
      " $ os.labor            : num  6.5 130.7 3 1014.4 971 ...\n",
      " $ os.parts            : chr  \"0.00\" \"0.00\" \"0.00\" \"0.00\" ...\n",
      " $ os.other            : chr  \"0.00\" \"0.00\" \"0.00\" \"0.00\" ...\n",
      " $ blanks              : chr  \"0.00\" \"0.00\" \"0.00\" \"0.00\" ...\n",
      " $ total.cost          : chr  \"7.68\" \"131.82\" \"3.44\" \"1058.72\" ...\n",
      " $ currency            : chr  \"USD\" \"USD\" \"USD\" \"USD\" ...\n",
      " $ stastics.date       : int  20190922 20190922 20190922 20190922 20190922 20190922 20190922 20190922 20190922 20190922 ...\n",
      " $ statistics.time     : int  116 439 959 14351 10037 10400 10921 10635 10507 10227 ...\n"
     ]
    }
   ],
   "source": [
    "str(my_data)"
   ]
  },
  {
   "cell_type": "code",
   "execution_count": 6,
   "id": "ab912f40",
   "metadata": {},
   "outputs": [
    {
     "data": {
      "image/png": "[encoded data removed]",
      "text/plain": [
       "plot without title"
      ]
     },
     "metadata": {
      "image/png": {
       "height": 420,
       "width": 420
      }
     },
     "output_type": "display_data"
    }
   ],
   "source": [
    "my_data %>% explore_tbl()"
   ]
  },
  {
   "cell_type": "code",
   "execution_count": 7,
   "id": "c6376b58",
   "metadata": {},
   "outputs": [
    {
     "data": {
      "text/html": [
       "<table class=\"dataframe\">\n",
       "<caption>A tibble: 18 × 8</caption>\n",
       "<thead>\n",
       "\t<tr><th scope=col>variable</th><th scope=col>type</th><th scope=col>na</th><th scope=col>na_pct</th><th scope=col>unique</th><th scope=col>min</th><th scope=col>mean</th><th scope=col>max</th></tr>\n",
       "\t<tr><th scope=col>&lt;chr&gt;</th><th scope=col>&lt;chr&gt;</th><th scope=col>&lt;int&gt;</th><th scope=col>&lt;dbl&gt;</th><th scope=col>&lt;int&gt;</th><th scope=col>&lt;dbl&gt;</th><th scope=col>&lt;dbl&gt;</th><th scope=col>&lt;dbl&gt;</th></tr>\n",
       "</thead>\n",
       "<tbody>\n",
       "\t<tr><td>client              </td><td>dbl</td><td> 0</td><td>0</td><td>     32</td><td>  200</td><td>3.018124e+04</td><td>6.007408e+09</td></tr>\n",
       "\t<tr><td>work.item           </td><td>dbl</td><td> 0</td><td>0</td><td>6208395</td><td>    0</td><td>6.004283e+09</td><td>6.007425e+09</td></tr>\n",
       "\t<tr><td>work.item.labor.key </td><td>int</td><td> 0</td><td>0</td><td>     25</td><td>    0</td><td>4.500000e-01</td><td>2.900000e+01</td></tr>\n",
       "\t<tr><td>work.item.index     </td><td>int</td><td> 0</td><td>0</td><td>     89</td><td>    0</td><td>1.300000e+00</td><td>2.060000e+02</td></tr>\n",
       "\t<tr><td>wi.technichans      </td><td>int</td><td> 0</td><td>0</td><td>     21</td><td>    0</td><td>1.540000e+00</td><td>3.300000e+01</td></tr>\n",
       "\t<tr><td>wi.red.flags        </td><td>int</td><td> 0</td><td>0</td><td>     15</td><td>    0</td><td>8.700000e-01</td><td>1.500000e+01</td></tr>\n",
       "\t<tr><td>load.images         </td><td>int</td><td> 0</td><td>0</td><td>     26</td><td>    0</td><td>4.000000e-02</td><td>3.900000e+01</td></tr>\n",
       "\t<tr><td>internal.labor.cost </td><td>dbl</td><td> 0</td><td>0</td><td>     48</td><td>    0</td><td>2.000000e-01</td><td>3.204000e+02</td></tr>\n",
       "\t<tr><td>internal.labor.hours</td><td>dbl</td><td> 0</td><td>0</td><td>  42387</td><td>    0</td><td>2.357000e+01</td><td>8.050690e+03</td></tr>\n",
       "\t<tr><td>internal.parts.cost </td><td>dbl</td><td> 0</td><td>0</td><td>   3592</td><td>    0</td><td>8.100000e-01</td><td>5.459200e+02</td></tr>\n",
       "\t<tr><td>os.labor            </td><td>dbl</td><td> 0</td><td>0</td><td>  98650</td><td>    0</td><td>5.120000e+01</td><td>1.421115e+04</td></tr>\n",
       "\t<tr><td>os.parts            </td><td>chr</td><td> 0</td><td>0</td><td>  30234</td><td>   NA</td><td>          NA</td><td>          NA</td></tr>\n",
       "\t<tr><td>os.other            </td><td>chr</td><td> 0</td><td>0</td><td>  73137</td><td>   NA</td><td>          NA</td><td>          NA</td></tr>\n",
       "\t<tr><td>blanks              </td><td>chr</td><td> 0</td><td>0</td><td>  33138</td><td>   NA</td><td>          NA</td><td>          NA</td></tr>\n",
       "\t<tr><td>total.cost          </td><td>chr</td><td> 0</td><td>0</td><td> 183880</td><td>   NA</td><td>          NA</td><td>          NA</td></tr>\n",
       "\t<tr><td>currency            </td><td>chr</td><td> 0</td><td>0</td><td>     33</td><td>   NA</td><td>          NA</td><td>          NA</td></tr>\n",
       "\t<tr><td>stastics.date       </td><td>int</td><td> 0</td><td>0</td><td>   1857</td><td>13502</td><td>2.018607e+07</td><td>2.021060e+07</td></tr>\n",
       "\t<tr><td>statistics.time     </td><td>int</td><td>32</td><td>0</td><td>  86432</td><td>    0</td><td>1.272338e+05</td><td>2.122092e+08</td></tr>\n",
       "</tbody>\n",
       "</table>\n"
      ],
      "text/latex": [
       "A tibble: 18 × 8\n",
       "\\begin{tabular}{llllllll}\n",
       " variable & type & na & na\\_pct & unique & min & mean & max\\\\\n",
       " <chr> & <chr> & <int> & <dbl> & <int> & <dbl> & <dbl> & <dbl>\\\\\n",
       "\\hline\n",
       "\t client               & dbl &  0 & 0 &      32 &   200 & 3.018124e+04 & 6.007408e+09\\\\\n",
       "\t work.item            & dbl &  0 & 0 & 6208395 &     0 & 6.004283e+09 & 6.007425e+09\\\\\n",
       "\t work.item.labor.key  & int &  0 & 0 &      25 &     0 & 4.500000e-01 & 2.900000e+01\\\\\n",
       "\t work.item.index      & int &  0 & 0 &      89 &     0 & 1.300000e+00 & 2.060000e+02\\\\\n",
       "\t wi.technichans       & int &  0 & 0 &      21 &     0 & 1.540000e+00 & 3.300000e+01\\\\\n",
       "\t wi.red.flags         & int &  0 & 0 &      15 &     0 & 8.700000e-01 & 1.500000e+01\\\\\n",
       "\t load.images          & int &  0 & 0 &      26 &     0 & 4.000000e-02 & 3.900000e+01\\\\\n",
       "\t internal.labor.cost  & dbl &  0 & 0 &      48 &     0 & 2.000000e-01 & 3.204000e+02\\\\\n",
       "\t internal.labor.hours & dbl &  0 & 0 &   42387 &     0 & 2.357000e+01 & 8.050690e+03\\\\\n",
       "\t internal.parts.cost  & dbl &  0 & 0 &    3592 &     0 & 8.100000e-01 & 5.459200e+02\\\\\n",
       "\t os.labor             & dbl &  0 & 0 &   98650 &     0 & 5.120000e+01 & 1.421115e+04\\\\\n",
       "\t os.parts             & chr &  0 & 0 &   30234 &    NA &           NA &           NA\\\\\n",
       "\t os.other             & chr &  0 & 0 &   73137 &    NA &           NA &           NA\\\\\n",
       "\t blanks               & chr &  0 & 0 &   33138 &    NA &           NA &           NA\\\\\n",
       "\t total.cost           & chr &  0 & 0 &  183880 &    NA &           NA &           NA\\\\\n",
       "\t currency             & chr &  0 & 0 &      33 &    NA &           NA &           NA\\\\\n",
       "\t stastics.date        & int &  0 & 0 &    1857 & 13502 & 2.018607e+07 & 2.021060e+07\\\\\n",
       "\t statistics.time      & int & 32 & 0 &   86432 &     0 & 1.272338e+05 & 2.122092e+08\\\\\n",
       "\\end{tabular}\n"
      ],
      "text/markdown": [
       "\n",
       "A tibble: 18 × 8\n",
       "\n",
       "| variable &lt;chr&gt; | type &lt;chr&gt; | na &lt;int&gt; | na_pct &lt;dbl&gt; | unique &lt;int&gt; | min &lt;dbl&gt; | mean &lt;dbl&gt; | max &lt;dbl&gt; |\n",
       "|---|---|---|---|---|---|---|---|\n",
       "| client               | dbl |  0 | 0 |      32 |   200 | 3.018124e+04 | 6.007408e+09 |\n",
       "| work.item            | dbl |  0 | 0 | 6208395 |     0 | 6.004283e+09 | 6.007425e+09 |\n",
       "| work.item.labor.key  | int |  0 | 0 |      25 |     0 | 4.500000e-01 | 2.900000e+01 |\n",
       "| work.item.index      | int |  0 | 0 |      89 |     0 | 1.300000e+00 | 2.060000e+02 |\n",
       "| wi.technichans       | int |  0 | 0 |      21 |     0 | 1.540000e+00 | 3.300000e+01 |\n",
       "| wi.red.flags         | int |  0 | 0 |      15 |     0 | 8.700000e-01 | 1.500000e+01 |\n",
       "| load.images          | int |  0 | 0 |      26 |     0 | 4.000000e-02 | 3.900000e+01 |\n",
       "| internal.labor.cost  | dbl |  0 | 0 |      48 |     0 | 2.000000e-01 | 3.204000e+02 |\n",
       "| internal.labor.hours | dbl |  0 | 0 |   42387 |     0 | 2.357000e+01 | 8.050690e+03 |\n",
       "| internal.parts.cost  | dbl |  0 | 0 |    3592 |     0 | 8.100000e-01 | 5.459200e+02 |\n",
       "| os.labor             | dbl |  0 | 0 |   98650 |     0 | 5.120000e+01 | 1.421115e+04 |\n",
       "| os.parts             | chr |  0 | 0 |   30234 |    NA |           NA |           NA |\n",
       "| os.other             | chr |  0 | 0 |   73137 |    NA |           NA |           NA |\n",
       "| blanks               | chr |  0 | 0 |   33138 |    NA |           NA |           NA |\n",
       "| total.cost           | chr |  0 | 0 |  183880 |    NA |           NA |           NA |\n",
       "| currency             | chr |  0 | 0 |      33 |    NA |           NA |           NA |\n",
       "| stastics.date        | int |  0 | 0 |    1857 | 13502 | 2.018607e+07 | 2.021060e+07 |\n",
       "| statistics.time      | int | 32 | 0 |   86432 |     0 | 1.272338e+05 | 2.122092e+08 |\n",
       "\n"
      ],
      "text/plain": [
       "   variable             type na na_pct unique  min   mean         max         \n",
       "1  client               dbl   0 0           32   200 3.018124e+04 6.007408e+09\n",
       "2  work.item            dbl   0 0      6208395     0 6.004283e+09 6.007425e+09\n",
       "3  work.item.labor.key  int   0 0           25     0 4.500000e-01 2.900000e+01\n",
       "4  work.item.index      int   0 0           89     0 1.300000e+00 2.060000e+02\n",
       "5  wi.technichans       int   0 0           21     0 1.540000e+00 3.300000e+01\n",
       "6  wi.red.flags         int   0 0           15     0 8.700000e-01 1.500000e+01\n",
       "7  load.images          int   0 0           26     0 4.000000e-02 3.900000e+01\n",
       "8  internal.labor.cost  dbl   0 0           48     0 2.000000e-01 3.204000e+02\n",
       "9  internal.labor.hours dbl   0 0        42387     0 2.357000e+01 8.050690e+03\n",
       "10 internal.parts.cost  dbl   0 0         3592     0 8.100000e-01 5.459200e+02\n",
       "11 os.labor             dbl   0 0        98650     0 5.120000e+01 1.421115e+04\n",
       "12 os.parts             chr   0 0        30234    NA           NA           NA\n",
       "13 os.other             chr   0 0        73137    NA           NA           NA\n",
       "14 blanks               chr   0 0        33138    NA           NA           NA\n",
       "15 total.cost           chr   0 0       183880    NA           NA           NA\n",
       "16 currency             chr   0 0           33    NA           NA           NA\n",
       "17 stastics.date        int   0 0         1857 13502 2.018607e+07 2.021060e+07\n",
       "18 statistics.time      int  32 0        86432     0 1.272338e+05 2.122092e+08"
      ]
     },
     "metadata": {},
     "output_type": "display_data"
    }
   ],
   "source": [
    "my_data %>% describe()"
   ]
  },
  {
   "cell_type": "code",
   "execution_count": null,
   "id": "9584dc0f",
   "metadata": {},
   "outputs": [],
   "source": []
  },
  {
   "cell_type": "code",
   "execution_count": null,
   "id": "e2ec3078",
   "metadata": {},
   "outputs": [],
   "source": []
  }
 ],
 "metadata": {
  "kernelspec": {
   "display_name": "R",
   "language": "R",
   "name": "ir"
  },
  "language_info": {
   "codemirror_mode": "r",
   "file_extension": ".r",
   "mimetype": "text/x-r-source",
   "name": "R",
   "pygments_lexer": "r",
   "version": "4.1.0"
  }
 },
 "nbformat": 4,
 "nbformat_minor": 5
}
